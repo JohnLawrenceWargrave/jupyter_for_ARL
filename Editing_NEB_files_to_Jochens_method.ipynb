{
 "cells": [
  {
   "metadata": {},
   "cell_type": "markdown",
   "source": [
    "Idee: Start und Endzustand des Springenden Atoms umbenennen und so tun als wäre das der Sprungzustande\n",
    "\n",
    "Todo:   - springendes Atom Identifizieren - check\n",
    "        - neue Daten ausschreiben"
   ],
   "id": "dd14992a45bce2f1"
  },
  {
   "metadata": {},
   "cell_type": "code",
   "source": [
    "import glob\n",
    "import os.path\n"
   ],
   "id": "92b339309789f0c5",
   "outputs": [],
   "execution_count": null
  },
  {
   "cell_type": "code",
   "id": "initial_id",
   "metadata": {
    "collapsed": true
   },
   "source": [
    "\n",
    "import ase\n",
    "from ase.io import read as ASEread\n",
    "import numpy as np\n",
    "\n",
    "def identify_jumping_atom(atoms_init, atoms_final):\n",
    "\n",
    "    # apply minimum image convention to get the displacement vector in direct coordinates for every atom\n",
    "    init_pos  = atoms_init.get_scaled_positions()\n",
    "    final_pos = atoms_final.get_scaled_positions()\n",
    "    for i, (pinit, pfin) in enumerate(zip(init_pos, final_pos)):\n",
    "        for xyz in [0,1,2]:\n",
    "            if pfin[xyz] - pinit[xyz] > 0.5:\n",
    "                final_pos[i][xyz] = final_pos[i][xyz] - 1\n",
    "            elif pfin[xyz] - pinit[xyz] < -0.5:\n",
    "                final_pos[i][xyz] = final_pos[i][xyz] + 1\n",
    "    rel_displacement_vector = final_pos - init_pos\n",
    "    \n",
    "    # get cell and compute the displacement vector in cartesian form\n",
    "    (a,b,c) = atoms_init.get_cell()\n",
    "    displacement_vector = []\n",
    "    for (x, y, z) in rel_displacement_vector:\n",
    "        displacement_vector.append(x*a+y*b+z*c)\n",
    "    displacement_vector = np.array(displacement_vector)\n",
    "    \n",
    "    # get displacement magnitude and check for the ones with displacement larger than 2\n",
    "    # which should be just the Li that jumps. Get its index\n",
    "    displacement = np.sqrt(np.sum(displacement_vector ** 2, axis = 1))\n",
    "    count = 0\n",
    "    for i, displ in enumerate(displacement):\n",
    "        if displ > 2:\n",
    "            count += 1\n",
    "            Li_index = i\n",
    "    \n",
    "    # Check that there are not >1 atoms moving \n",
    "    if count != 1:\n",
    "        print(f\"WARNING: There are {count} ions that move more than 2 Ang during the NEB! Check NEB path again!\")\n",
    "    else:\n",
    "        return Li_index"
   ],
   "outputs": [],
   "execution_count": null
  },
  {
   "metadata": {},
   "cell_type": "markdown",
   "source": "Aus NEB-folder Struktur 00 und 06 einlesen jumping Li-umbenennen in 00 und aus 06 hinzufügen",
   "id": "dc96360f32e001bd"
  },
  {
   "metadata": {},
   "cell_type": "code",
   "source": [
    "#Li-trans\n",
    "atoms_for_training_NEB_transition_states = []\n",
    "H_o_M_for_training_NEB_transition_states = []\n",
    "paths_for_training_NEB_transition_states = []\n",
    "\n",
    "# the ones generated manually (0250, 0500, 0750)\n",
    "paths_for_training_NEB_transition_states  = glob.glob(\"/nfshome/winkelmann/ARL/NEBs_Marcel/0250/NEB_*_finished/run_final\")\n",
    "paths_for_training_NEB_transition_states += glob.glob(\"/nfshome/winkelmann/ARL/NEBs_Marcel/0500/NEB_*_finished/run_final\")\n",
    "paths_for_training_NEB_transition_states += glob.glob(\"/nfshome/winkelmann/ARL/NEBs_Marcel/0750/NEB_*_finished/run_final\")\n",
    "\n",
    "# the random ones\n",
    "paths_for_training_NEB_transition_states += glob.glob(\"/nfshome/winkelmann/ARL/NEBs_Marcel/0*random*/02_odh/NEB_*/run_final\")\n",
    "paths_for_training_NEB_transition_states += glob.glob(\"/nfshome/winkelmann/ARL/NEBs_Marcel/0*random*/03_tsh/NEB_*/run_final\")\n",
    "paths_for_training_NEB_transition_states += glob.glob(\"/nfshome/winkelmann/ARL/NEBs_Marcel/0*random*/04_double_tsh/NEB_*/run_final\")\n",
    "\n",
    "# Iterate over all run_final folders\n",
    "for path in paths_for_training_NEB_transition_states:\n",
    "    \n",
    "    # Check the energy along the path. Use initial and final energies from the corresponding relaxed structures + the last steps of the \n",
    "    # optimized intermediate images\n",
    "    start_structure = ASEread(path.replace('run_final','OUTCAR_initial_image'))\n",
    "    end_structure = ASEread(path.replace('run_final','OUTCAR_final_image'))\n",
    "    i = identify_jumping_atom(start_structure, end_structure)\n",
    "    write_structure = start_structure.copy()\n",
    "    write_structure[i].symbol = 'Ti'\n",
    "    end_structure[i].symbol = 'Ti'\n",
    "    write_structure.append(end_structure[i])\n",
    "    write_structure.write(path.replace('run_final','jochen_trans_image.vasp'), format='vasp')\n",
    "    \n",
    "    \n",
    "    "
   ],
   "id": "e4c2aa7207f4f036",
   "outputs": [],
   "execution_count": null
  },
  {
   "metadata": {},
   "cell_type": "code",
   "source": [
    "#testing of the data\n",
    "atoms_for_training_NEB_transition_states = []\n",
    "H_o_M_for_training_NEB_transition_states = []\n",
    "paths_for_training_NEB_transition_states = []\n",
    "\n",
    "# the ones generated manually (0250, 0500, 0750)\n",
    "paths_for_training_NEB_transition_states  = glob.glob(\"/nfshome/winkelmann/ARL/NEBs_Marcel/0250/NEB_*_finished/run_final\")\n",
    "paths_for_training_NEB_transition_states += glob.glob(\"/nfshome/winkelmann/ARL/NEBs_Marcel/0500/NEB_*_finished/run_final\")\n",
    "paths_for_training_NEB_transition_states += glob.glob(\"/nfshome/winkelmann/ARL/NEBs_Marcel/0750/NEB_*_finished/run_final\")\n",
    "\n",
    "# the random ones\n",
    "paths_for_training_NEB_transition_states += glob.glob(\"/nfshome/winkelmann/ARL/NEBs_Marcel/0*random*/02_odh/NEB_*/run_final\")\n",
    "paths_for_training_NEB_transition_states += glob.glob(\"/nfshome/winkelmann/ARL/NEBs_Marcel/0*random*/03_tsh/NEB_*/run_final\")\n",
    "paths_for_training_NEB_transition_states += glob.glob(\"/nfshome/winkelmann/ARL/NEBs_Marcel/0*random*/04_double_tsh/NEB_*/run_final\")\n",
    "\n",
    "# Iterate over all run_final folders\n",
    "for path in paths_for_training_NEB_transition_states:\n",
    "    \n",
    "    # Check the energy along the path. Use initial and final energies from the corresponding relaxed structures + the last steps of the \n",
    "    # optimized intermediate images\n",
    "    if os.path.exists(path.replace('run_final','OUTCAR_trans_image')):\n",
    "        os.rename(path.replace('run_final','OUTCAR_trans_image'),path.replace('run_final','jochen_trans_image.vasp'))\n"
   ],
   "id": "7bb281c02120aa4f",
   "outputs": [],
   "execution_count": null
  }
 ],
 "metadata": {
  "kernelspec": {
   "display_name": "Python 3",
   "language": "python",
   "name": "python3"
  },
  "language_info": {
   "codemirror_mode": {
    "name": "ipython",
    "version": 2
   },
   "file_extension": ".py",
   "mimetype": "text/x-python",
   "name": "python",
   "nbconvert_exporter": "python",
   "pygments_lexer": "ipython2",
   "version": "2.7.6"
  }
 },
 "nbformat": 4,
 "nbformat_minor": 5
}
