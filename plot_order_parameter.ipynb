{
 "cells": [
  {
   "cell_type": "code",
   "execution_count": 1,
   "id": "acedb45f",
   "metadata": {},
   "outputs": [],
   "source": [
    "import os\n",
    "import glob\n",
    "import numpy as np\n",
    "import matplotlib.pyplot as plt\n",
    "from ase.io import read\n",
    "from ase.neighborlist import neighbor_list\n",
    "from icet import ClusterSpace\n",
    "from icet import ClusterExpansion\n",
    "from mchammer.observers import BinaryShortRangeOrderObserver"
   ]
  },
  {
   "cell_type": "markdown",
   "id": "e7e1f53d",
   "metadata": {},
   "source": [
    "# read CE Data"
   ]
  },
  {
   "cell_type": "code",
   "execution_count": 2,
   "id": "a5a716a9",
   "metadata": {},
   "outputs": [],
   "source": [
    "simulation_folder = '/nfshome/winkelmann/CathodeSimulationResults/MMC/Li_50%/size_10_5_3/01'\n",
    "\n",
    "ce_path = 'mixing_energy_anchorTS_lasso.ce'\n",
    "# find CE\n",
    "\n",
    "searching_folder = simulation_folder\n",
    "searched_folders = []\n",
    "\n",
    "while True:\n",
    "    # Search for the file in the current directory\n",
    "    test = os.path.join(searching_folder, 'program_files', ce_path)\n",
    "    files = glob.glob(test)\n",
    "    if files:\n",
    "        ce_path = files[0]\n",
    "        break\n",
    "    searched_folders.append(searching_folder)\n",
    "    # Move to the parent directory\n",
    "    parent_dir = os.path.dirname(searching_folder)\n",
    "    # If we have reached the root directory, stop searching\n",
    "    if parent_dir == searching_folder:\n",
    "        raise FileNotFoundError(f\"Could not find 'program_files/{ce_path}' - searched:{searched_folders}\")\n",
    "    searching_folder = parent_dir\n",
    "    \n",
    "ce = ClusterExpansion.read(ce_path)\n",
    "cs = ce.get_cluster_space_copy()"
   ]
  },
  {
   "cell_type": "markdown",
   "id": "ada2c174",
   "metadata": {},
   "source": [
    "# Defining an Analyzer for one sim"
   ]
  },
  {
   "cell_type": "code",
   "execution_count": null,
   "id": "8bce2503",
   "metadata": {},
   "outputs": [],
   "source": [
    "def analyze(xdatcar_path):\n",
    "    # Read all frames from XDATCAR\n",
    "    # The ':' tells ASE to read all frames\n",
    "    structures = read(xdatcar_path, format='vasp-xdatcar', index=':')\n",
    "    print(f\"Loaded {len(structures)} structures from XDATCAR\")\n",
    "    \n",
    "    #getting cutoffs \n",
    "    i,j,d = neighbor_list('ijd', structures[0], cutoff=8.1)\n",
    "    unique_distances = np.unique(np.round(d, decimals=2))\n",
    "    unique_distances.sort()\n",
    "    cutoffs = [d + 0.1 for d in unique_distances]\n",
    "    \n",
    "    species = ['Li', 'X']\n",
    "    \n",
    "    sro_parameters = []\n",
    "\n",
    "    # Setting up Observer\n",
    "    sro = BinaryShortRangeOrderObserver(\n",
    "        cluster_space=cs,\n",
    "        structure=structures[0],\n",
    "        radius=8.09 ) \n",
    "    \n",
    "    # Process each structure-snapshot\n",
    "    for i, structure in enumerate(structures):\n",
    "        sro_parameters.append(sro.get_observable(structure=structure))\n",
    "    \n",
    "    # Plot SRO parameter evolution to identify phase transitions\n",
    "    plt.figure(figsize=(12, 8))\n",
    "\n",
    "    # Plot SRO parameters for each shell\n",
    "    for i in range(n_shells):\n",
    "        plt.subplot(n_shells, 1, i+1)\n",
    "        plt.plot(sro_parameters[:, i], label=f'Shell {i+1} ({cutoffs[i]:.2f} Å)')\n",
    "        plt.axhline(y=0, color='r', linestyle='--', alpha=0.5)\n",
    "        plt.ylabel(f'SRO Parameter')\n",
    "        plt.legend()\n",
    "        \n",
    "        # Highlight regions of significant change (potential phase transitions)\n",
    "        # Calculate rolling average of derivative to find rapid changes\n",
    "        window = 5  # Window size for smoothing\n",
    "        if len(sro_parameters) > window*2:\n",
    "            smoothed = np.convolve(sro_parameters[:, i], \n",
    "                                np.ones(window)/window, mode='valid')\n",
    "            derivative = np.gradient(smoothed)\n",
    "            \n",
    "            # Find points where derivative exceeds threshold (potential transitions)\n",
    "            threshold = 3 * np.std(derivative)\n",
    "            transition_points = np.where(np.abs(derivative) > threshold)[0]\n",
    "            \n",
    "            # Add vertical lines at potential transition points\n",
    "            for point in transition_points:\n",
    "                plt.axvline(x=point+window//2, color='g', alpha=0.3)\n",
    "    plt.xlabel('MC Step')\n",
    "    plt.tight_layout()\n",
    "    plt.savefig(xdatcar_path.replace('.xdatcar', '_sro_over_MC-step.png'), dpi=300)\n",
    "    \n",
    "    # sro vs MC-step\n",
    "    plt.figure(figsize=(10, 6))\n",
    "\n",
    "    # Create scatter plot of SRO vs MC step\n",
    "    for i in range(n_shells):\n",
    "        plt.scatter(range(n_frames), sro_parameters[:, i], \n",
    "                label=f'Shell {i+1} ({cutoffs[i]:.2f} Å)', alpha=0.5)\n",
    "    \n",
    "    # Calculate variance of SRO as function of MC step\n",
    "    # (variance peaks at phase transitions)\n",
    "    mc_steps = np.unique(temperatures)\n",
    "    sro_variances = np.zeros((len(mc_steps), n_shells))\n",
    "\n",
    "    for i, step in enumerate(mc_steps):\n",
    "        step_indices = [j for j, t in enumerate(temperatures) if t == temp]\n",
    "        for shell in range(n_shells):\n",
    "            sro_variances[i, shell] = np.var([sro_parameters[j, shell] for j in temp_indices])\n",
    "    \n",
    "    # Plot variance to identify phase transition temperature\n",
    "    plt.figure(figsize=(10, 6))\n",
    "    for shell in range(n_shells):\n",
    "        plt.plot(mc_steps, sro_variances[:, shell], \n",
    "                 marker='o', label=f'Shell {shell+1}')\n",
    "    \n",
    "    \n",
    "    plt.xlabel('MC Step')\n",
    "    plt.ylabel('SRO Parameter')\n",
    "    plt.axhline(y=0, color='r', linestyle='--', alpha=0.5)\n",
    "    plt.grid(True)\n",
    "    plt.ticklabel_format(axis='y', style='sci', scilimits=(0,0))\n",
    "    plt.legend()\n",
    "    plt.title('SRO Parameter vs MC Step')\n",
    "    plt.grid(True, alpha=0.3)\n",
    "    plt.savefig(xdatcar_path.replace('.xdatcar', '_sro_derivate_over_mc_step.png'), dpi=300)\n",
    "    plt.show()\n",
    "    \n",
    "    return sro_parameters\n",
    "\n",
    "    "
   ]
  },
  {
   "cell_type": "markdown",
   "id": "266a4969",
   "metadata": {},
   "source": [
    "# Iterating over sims"
   ]
  },
  {
   "cell_type": "code",
   "execution_count": 18,
   "id": "f2fd4801",
   "metadata": {},
   "outputs": [
    {
     "name": "stdout",
     "output_type": "stream",
     "text": [
      "Loaded 42 structures from XDATCAR\n"
     ]
    },
    {
     "ename": "RuntimeError",
     "evalue": "Failed to find site by position (findLatticeSiteByPosition).\nTry increasing symprec or position_tolerance.\nposition: 2.8429 6.56539 2.35761\nscaled position: 2.5 0.5 -2.5\nfractional position tolerance: 2e-06",
     "output_type": "error",
     "traceback": [
      "\u001b[0;31m---------------------------------------------------------------------------\u001b[0m",
      "\u001b[0;31mRuntimeError\u001b[0m                              Traceback (most recent call last)",
      "Cell \u001b[0;32mIn[18], line 3\u001b[0m\n\u001b[1;32m      1\u001b[0m file_name \u001b[38;5;241m=\u001b[39m \u001b[38;5;124m'\u001b[39m\u001b[38;5;124m*.XDATCAR\u001b[39m\u001b[38;5;124m'\u001b[39m\n\u001b[1;32m      2\u001b[0m file_path \u001b[38;5;241m=\u001b[39m glob\u001b[38;5;241m.\u001b[39mglob(os\u001b[38;5;241m.\u001b[39mpath\u001b[38;5;241m.\u001b[39mjoin(simulation_folder, file_name))\n\u001b[0;32m----> 3\u001b[0m \u001b[43manalyze\u001b[49m\u001b[43m(\u001b[49m\u001b[43mfile_path\u001b[49m\u001b[43m[\u001b[49m\u001b[38;5;241;43m0\u001b[39;49m\u001b[43m]\u001b[49m\u001b[43m)\u001b[49m\n",
      "Cell \u001b[0;32mIn[17], line 18\u001b[0m, in \u001b[0;36manalyze\u001b[0;34m(xdatcar_path)\u001b[0m\n\u001b[1;32m     15\u001b[0m sro_parameters \u001b[38;5;241m=\u001b[39m []\n\u001b[1;32m     17\u001b[0m \u001b[38;5;66;03m# Setting up Observer\u001b[39;00m\n\u001b[0;32m---> 18\u001b[0m sro \u001b[38;5;241m=\u001b[39m \u001b[43mBinaryShortRangeOrderObserver\u001b[49m\u001b[43m(\u001b[49m\n\u001b[1;32m     19\u001b[0m \u001b[43m    \u001b[49m\u001b[43mcluster_space\u001b[49m\u001b[38;5;241;43m=\u001b[39;49m\u001b[43mcs\u001b[49m\u001b[43m,\u001b[49m\n\u001b[1;32m     20\u001b[0m \u001b[43m    \u001b[49m\u001b[43mstructure\u001b[49m\u001b[38;5;241;43m=\u001b[39;49m\u001b[43mstructures\u001b[49m\u001b[43m[\u001b[49m\u001b[38;5;241;43m0\u001b[39;49m\u001b[43m]\u001b[49m\u001b[43m,\u001b[49m\n\u001b[1;32m     21\u001b[0m \u001b[43m    \u001b[49m\u001b[43mradius\u001b[49m\u001b[38;5;241;43m=\u001b[39;49m\u001b[38;5;241;43m8\u001b[39;49m\u001b[43m \u001b[49m\u001b[43m)\u001b[49m \n\u001b[1;32m     23\u001b[0m \u001b[38;5;66;03m# Process each structure-snapshot\u001b[39;00m\n\u001b[1;32m     24\u001b[0m \u001b[38;5;28;01mfor\u001b[39;00m i, structure \u001b[38;5;129;01min\u001b[39;00m \u001b[38;5;28menumerate\u001b[39m(structures):\n",
      "File \u001b[0;32m~/anaconda3/lib/python3.10/site-packages/mchammer/observers/binary_short_range_order_observer.py:93\u001b[0m, in \u001b[0;36mBinaryShortRangeOrderObserver.__init__\u001b[0;34m(self, cluster_space, structure, radius, interval)\u001b[0m\n\u001b[1;32m     88\u001b[0m \u001b[38;5;28msuper\u001b[39m()\u001b[38;5;241m.\u001b[39m\u001b[38;5;21m__init__\u001b[39m(interval\u001b[38;5;241m=\u001b[39minterval, return_type\u001b[38;5;241m=\u001b[39m\u001b[38;5;28mdict\u001b[39m,\n\u001b[1;32m     89\u001b[0m                  tag\u001b[38;5;241m=\u001b[39m\u001b[38;5;124m'\u001b[39m\u001b[38;5;124mBinaryShortRangeOrderObserver\u001b[39m\u001b[38;5;124m'\u001b[39m)\n\u001b[1;32m     91\u001b[0m \u001b[38;5;28mself\u001b[39m\u001b[38;5;241m.\u001b[39m_structure \u001b[38;5;241m=\u001b[39m structure\n\u001b[0;32m---> 93\u001b[0m \u001b[38;5;28mself\u001b[39m\u001b[38;5;241m.\u001b[39m_cluster_space \u001b[38;5;241m=\u001b[39m \u001b[43mClusterSpace\u001b[49m\u001b[43m(\u001b[49m\n\u001b[1;32m     94\u001b[0m \u001b[43m    \u001b[49m\u001b[43mstructure\u001b[49m\u001b[38;5;241;43m=\u001b[39;49m\u001b[43mcluster_space\u001b[49m\u001b[38;5;241;43m.\u001b[39;49m\u001b[43mprimitive_structure\u001b[49m\u001b[43m,\u001b[49m\n\u001b[1;32m     95\u001b[0m \u001b[43m    \u001b[49m\u001b[43mcutoffs\u001b[49m\u001b[38;5;241;43m=\u001b[39;49m\u001b[43m[\u001b[49m\u001b[43mradius\u001b[49m\u001b[43m]\u001b[49m\u001b[43m,\u001b[49m\n\u001b[1;32m     96\u001b[0m \u001b[43m    \u001b[49m\u001b[43mchemical_symbols\u001b[49m\u001b[38;5;241;43m=\u001b[39;49m\u001b[43mcluster_space\u001b[49m\u001b[38;5;241;43m.\u001b[39;49m\u001b[43mchemical_symbols\u001b[49m\u001b[43m)\u001b[49m\n\u001b[1;32m     97\u001b[0m \u001b[38;5;28mself\u001b[39m\u001b[38;5;241m.\u001b[39m_cluster_count_observer \u001b[38;5;241m=\u001b[39m ClusterCountObserver(\n\u001b[1;32m     98\u001b[0m     cluster_space\u001b[38;5;241m=\u001b[39m\u001b[38;5;28mself\u001b[39m\u001b[38;5;241m.\u001b[39m_cluster_space, structure\u001b[38;5;241m=\u001b[39mstructure,\n\u001b[1;32m     99\u001b[0m     interval\u001b[38;5;241m=\u001b[39minterval)\n\u001b[1;32m    101\u001b[0m \u001b[38;5;28mself\u001b[39m\u001b[38;5;241m.\u001b[39m_sublattices \u001b[38;5;241m=\u001b[39m \u001b[38;5;28mself\u001b[39m\u001b[38;5;241m.\u001b[39m_cluster_space\u001b[38;5;241m.\u001b[39mget_sublattices(structure)\n",
      "File \u001b[0;32m~/anaconda3/lib/python3.10/site-packages/icet/core/cluster_space.py:147\u001b[0m, in \u001b[0;36mClusterSpace.__init__\u001b[0;34m(self, structure, cutoffs, chemical_symbols, symprec, position_tolerance)\u001b[0m\n\u001b[1;32m    144\u001b[0m \u001b[38;5;28mself\u001b[39m\u001b[38;5;241m.\u001b[39m_config[\u001b[38;5;124m'\u001b[39m\u001b[38;5;124mfractional_position_tolerance\u001b[39m\u001b[38;5;124m'\u001b[39m] \u001b[38;5;241m=\u001b[39m \u001b[38;5;28mround\u001b[39m(tol, \u001b[38;5;241m-\u001b[39m\u001b[38;5;28mint\u001b[39m(floor(log10(\u001b[38;5;28mabs\u001b[39m(tol)))))\n\u001b[1;32m    146\u001b[0m \u001b[38;5;66;03m# set up orbit list\u001b[39;00m\n\u001b[0;32m--> 147\u001b[0m \u001b[38;5;28mself\u001b[39m\u001b[38;5;241m.\u001b[39m_orbit_list \u001b[38;5;241m=\u001b[39m \u001b[43mOrbitList\u001b[49m\u001b[43m(\u001b[49m\n\u001b[1;32m    148\u001b[0m \u001b[43m    \u001b[49m\u001b[43mstructure\u001b[49m\u001b[38;5;241;43m=\u001b[39;49m\u001b[43moccupied_primitive\u001b[49m\u001b[43m,\u001b[49m\n\u001b[1;32m    149\u001b[0m \u001b[43m    \u001b[49m\u001b[43mcutoffs\u001b[49m\u001b[38;5;241;43m=\u001b[39;49m\u001b[38;5;28;43mself\u001b[39;49m\u001b[38;5;241;43m.\u001b[39;49m\u001b[43m_cutoffs\u001b[49m\u001b[43m,\u001b[49m\n\u001b[1;32m    150\u001b[0m \u001b[43m    \u001b[49m\u001b[43mchemical_symbols\u001b[49m\u001b[38;5;241;43m=\u001b[39;49m\u001b[38;5;28;43mself\u001b[39;49m\u001b[38;5;241;43m.\u001b[39;49m\u001b[43m_primitive_chemical_symbols\u001b[49m\u001b[43m,\u001b[49m\n\u001b[1;32m    151\u001b[0m \u001b[43m    \u001b[49m\u001b[43msymprec\u001b[49m\u001b[38;5;241;43m=\u001b[39;49m\u001b[38;5;28;43mself\u001b[39;49m\u001b[38;5;241;43m.\u001b[39;49m\u001b[43msymprec\u001b[49m\u001b[43m,\u001b[49m\n\u001b[1;32m    152\u001b[0m \u001b[43m    \u001b[49m\u001b[43mposition_tolerance\u001b[49m\u001b[38;5;241;43m=\u001b[39;49m\u001b[38;5;28;43mself\u001b[39;49m\u001b[38;5;241;43m.\u001b[39;49m\u001b[43mposition_tolerance\u001b[49m\u001b[43m,\u001b[49m\n\u001b[1;32m    153\u001b[0m \u001b[43m    \u001b[49m\u001b[43mfractional_position_tolerance\u001b[49m\u001b[38;5;241;43m=\u001b[39;49m\u001b[38;5;28;43mself\u001b[39;49m\u001b[38;5;241;43m.\u001b[39;49m\u001b[43mfractional_position_tolerance\u001b[49m\u001b[43m)\u001b[49m\n\u001b[1;32m    154\u001b[0m \u001b[38;5;28mself\u001b[39m\u001b[38;5;241m.\u001b[39m_orbit_list\u001b[38;5;241m.\u001b[39mremove_orbits_with_inactive_sites()\n\u001b[1;32m    156\u001b[0m \u001b[38;5;66;03m# call (base) C++ constructor\u001b[39;00m\n",
      "File \u001b[0;32m~/anaconda3/lib/python3.10/site-packages/icet/core/orbit_list.py:83\u001b[0m, in \u001b[0;36mOrbitList.__init__\u001b[0;34m(self, structure, cutoffs, chemical_symbols, symprec, position_tolerance, fractional_position_tolerance)\u001b[0m\n\u001b[1;32m     80\u001b[0m logger\u001b[38;5;241m.\u001b[39minfo(\u001b[38;5;124m'\u001b[39m\u001b[38;5;124mDone getting neighbor lists.\u001b[39m\u001b[38;5;124m'\u001b[39m)\n\u001b[1;32m     82\u001b[0m \u001b[38;5;66;03m# Transform matrix_of_equivalent_positions to be in lattice site format\u001b[39;00m\n\u001b[0;32m---> 83\u001b[0m pm_lattice_sites \u001b[38;5;241m=\u001b[39m \u001b[43m_get_lattice_site_matrix_of_equivalent_positions\u001b[49m\u001b[43m(\u001b[49m\n\u001b[1;32m     84\u001b[0m \u001b[43m    \u001b[49m\u001b[43mstructure\u001b[49m\u001b[38;5;241;43m=\u001b[39;49m\u001b[43mprim_structure\u001b[49m\u001b[43m,\u001b[49m\n\u001b[1;32m     85\u001b[0m \u001b[43m    \u001b[49m\u001b[43mmatrix_of_equivalent_positions\u001b[49m\u001b[38;5;241;43m=\u001b[39;49m\u001b[43mmatrix_of_equivalent_positions\u001b[49m\u001b[43m,\u001b[49m\n\u001b[1;32m     86\u001b[0m \u001b[43m    \u001b[49m\u001b[43mfractional_position_tolerance\u001b[49m\u001b[38;5;241;43m=\u001b[39;49m\u001b[43mfractional_position_tolerance\u001b[49m\u001b[43m,\u001b[49m\n\u001b[1;32m     87\u001b[0m \u001b[43m    \u001b[49m\u001b[43mprune\u001b[49m\u001b[38;5;241;43m=\u001b[39;49m\u001b[38;5;28;43;01mTrue\u001b[39;49;00m\u001b[43m)\u001b[49m\n\u001b[1;32m     89\u001b[0m logger\u001b[38;5;241m.\u001b[39minfo(\u001b[38;5;124m'\u001b[39m\u001b[38;5;124mTransformation of matrix of equivalent positions\u001b[39m\u001b[38;5;124m'\u001b[39m\n\u001b[1;32m     90\u001b[0m             \u001b[38;5;124m'\u001b[39m\u001b[38;5;124m to lattice neighbor format completed.\u001b[39m\u001b[38;5;124m'\u001b[39m)\n\u001b[1;32m     92\u001b[0m _OrbitList\u001b[38;5;241m.\u001b[39m\u001b[38;5;21m__init__\u001b[39m(\u001b[38;5;28mself\u001b[39m,\n\u001b[1;32m     93\u001b[0m                     structure\u001b[38;5;241m=\u001b[39mprim_structure,\n\u001b[1;32m     94\u001b[0m                     matrix_of_equivalent_sites\u001b[38;5;241m=\u001b[39mpm_lattice_sites,\n\u001b[1;32m     95\u001b[0m                     neighbor_lists\u001b[38;5;241m=\u001b[39mneighbor_lists,\n\u001b[1;32m     96\u001b[0m                     position_tolerance\u001b[38;5;241m=\u001b[39mposition_tolerance)\n",
      "File \u001b[0;32m~/anaconda3/lib/python3.10/site-packages/icet/core/matrix_of_equivalent_positions.py:163\u001b[0m, in \u001b[0;36m_get_lattice_site_matrix_of_equivalent_positions\u001b[0;34m(structure, matrix_of_equivalent_positions, fractional_position_tolerance, prune)\u001b[0m\n\u001b[1;32m    161\u001b[0m lattice_sites \u001b[38;5;241m=\u001b[39m []\n\u001b[1;32m    162\u001b[0m \u001b[38;5;28;01mif\u001b[39;00m np\u001b[38;5;241m.\u001b[39mall(structure\u001b[38;5;241m.\u001b[39mpbc):\n\u001b[0;32m--> 163\u001b[0m     lattice_sites \u001b[38;5;241m=\u001b[39m \u001b[43mstructure\u001b[49m\u001b[38;5;241;43m.\u001b[39;49m\u001b[43mfind_lattice_sites_by_positions\u001b[49m\u001b[43m(\u001b[49m\n\u001b[1;32m    164\u001b[0m \u001b[43m        \u001b[49m\u001b[43mpositions\u001b[49m\u001b[38;5;241;43m=\u001b[39;49m\u001b[43mpositions\u001b[49m\u001b[43m,\u001b[49m\u001b[43m \u001b[49m\u001b[43mfractional_position_tolerance\u001b[49m\u001b[38;5;241;43m=\u001b[39;49m\u001b[43mfractional_position_tolerance\u001b[49m\u001b[43m)\u001b[49m\n\u001b[1;32m    165\u001b[0m \u001b[38;5;28;01melse\u001b[39;00m:\n\u001b[1;32m    166\u001b[0m     \u001b[38;5;28;01mraise\u001b[39;00m \u001b[38;5;167;01mValueError\u001b[39;00m(\u001b[38;5;124m'\u001b[39m\u001b[38;5;124mInput structure must have periodic boundary conditions.\u001b[39m\u001b[38;5;124m'\u001b[39m)\n",
      "File \u001b[0;32m~/anaconda3/lib/python3.10/site-packages/icet/core/structure.py:76\u001b[0m, in \u001b[0;36mStructure.find_lattice_sites_by_positions\u001b[0;34m(self, positions, fractional_position_tolerance)\u001b[0m\n\u001b[1;32m     74\u001b[0m lattice_sites \u001b[38;5;241m=\u001b[39m []\n\u001b[1;32m     75\u001b[0m \u001b[38;5;28;01mfor\u001b[39;00m position \u001b[38;5;129;01min\u001b[39;00m positions:\n\u001b[0;32m---> 76\u001b[0m     lattice_sites\u001b[38;5;241m.\u001b[39mappend(\u001b[38;5;28;43mself\u001b[39;49m\u001b[38;5;241;43m.\u001b[39;49m\u001b[43mfind_lattice_site_by_position\u001b[49m\u001b[43m(\u001b[49m\n\u001b[1;32m     77\u001b[0m \u001b[43m        \u001b[49m\u001b[43mposition\u001b[49m\u001b[38;5;241;43m=\u001b[39;49m\u001b[43mposition\u001b[49m\u001b[43m,\u001b[49m\n\u001b[1;32m     78\u001b[0m \u001b[43m        \u001b[49m\u001b[43mfractional_position_tolerance\u001b[49m\u001b[38;5;241;43m=\u001b[39;49m\u001b[43mfractional_position_tolerance\u001b[49m\u001b[43m)\u001b[49m)\n\u001b[1;32m     79\u001b[0m \u001b[38;5;28;01mreturn\u001b[39;00m lattice_sites\n",
      "\u001b[0;31mRuntimeError\u001b[0m: Failed to find site by position (findLatticeSiteByPosition).\nTry increasing symprec or position_tolerance.\nposition: 2.8429 6.56539 2.35761\nscaled position: 2.5 0.5 -2.5\nfractional position tolerance: 2e-06"
     ]
    }
   ],
   "source": [
    "file_name = '*.XDATCAR'\n",
    "file_path = glob.glob(os.path.join(simulation_folder, file_name))\n",
    "analyze(file_path[0])"
   ]
  }
 ],
 "metadata": {
  "kernelspec": {
   "display_name": "base",
   "language": "python",
   "name": "python3"
  },
  "language_info": {
   "codemirror_mode": {
    "name": "ipython",
    "version": 3
   },
   "file_extension": ".py",
   "mimetype": "text/x-python",
   "name": "python",
   "nbconvert_exporter": "python",
   "pygments_lexer": "ipython3",
   "version": "3.10.13"
  }
 },
 "nbformat": 4,
 "nbformat_minor": 5
}
