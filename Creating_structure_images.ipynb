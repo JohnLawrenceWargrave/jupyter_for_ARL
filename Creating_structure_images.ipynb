{
 "cells": [
  {
   "metadata": {},
   "cell_type": "markdown",
   "source": "# Structure with just Li-Layer",
   "id": "17dacc43de151055"
  },
  {
   "cell_type": "code",
   "id": "e84338e0-614c-471a-ba86-e55db8c5b98a",
   "metadata": {},
   "source": [
    "import copy\n",
    "\n",
    "# read and find all Li atoms\n",
    "from ase.io import read\n",
    "import ase\n",
    "from shelxfile.atoms.atoms import Atoms\n",
    "\n",
    "atom_list = ase.io.read('LiNiO2_mp-25411_computed_5x5.xyz')\n",
    "ordered_atoms = {}\n",
    "for atom in atom_list:\n",
    "    i = atom.index\n",
    "    symbol = atom_list[i].symbol\n",
    "    if symbol in ordered_atoms:\n",
    "        ordered_atoms[symbol].append(i)\n",
    "    else:\n",
    "        ordered_atoms[symbol] = [i]\n"
   ],
   "outputs": [],
   "execution_count": null
  },
  {
   "cell_type": "code",
   "id": "a5543fc2-799a-4361-a7d9-cdb345914bea",
   "metadata": {},
   "source": [
    "# writing all Li-atoms into a file\n",
    "li_list = atom_list[ordered_atoms['Li']]\n",
    "li_list.write('li_layer5x5',format='vasp-xdatcar')"
   ],
   "outputs": [],
   "execution_count": null
  },
  {
   "cell_type": "code",
   "id": "dd471c8d-4e65-4c5b-8c0a-6fbbccb4225b",
   "metadata": {},
   "source": [
    "#creating neighbour list and transition states\n",
    "import asap3 as asap\n",
    "neigbourlist = asap.FullNeigborList(3.0,li_list)\n",
    "for atom in atom_list:\n",
    "    "
   ],
   "outputs": [],
   "execution_count": null
  },
  {
   "metadata": {},
   "cell_type": "markdown",
   "source": "# creating one Layer Li with O and Trans",
   "id": "944f10ece3de12af"
  },
  {
   "metadata": {},
   "cell_type": "code",
   "source": [
    "import ase\n",
    "import numpy as np\n",
    "import copy\n",
    "\n",
    "atom_list = ase.io.read('/nfshome/winkelmann/ARL/Graphics/LiNiO2_mp-25411_just_Li_and_O_one_layer_noTS.cif')\n",
    "for atom in atom_list:\n",
    "    if atom.symbol == 'Li':\n",
    "        add_atom = copy.deepcopy(atom)\n",
    "        add_atom.symbol = 'He'\n",
    "        add_atom.position = np.add(atom.position,[atom.position[0],0,0])\n",
    "        atom_list.append(add_atom)\n",
    "        atom_list.append(ase.Atom('He',np.add(atom.position,[0, atom.position[1], 0])))\n",
    "        atom_list.append(ase.Atom('He',np.add(atom.position,[0, 0, atom.position[2]])))\n",
    "\n",
    "atom_list.write('LiNiO2_mp-25411_just_Li_and_O_one_layer_withTS.cif',format='cif')"
   ],
   "id": "70832b93c856c454",
   "outputs": [],
   "execution_count": null
  },
  {
   "metadata": {},
   "cell_type": "code",
   "source": [
    "file = open('/nfshome/winkelmann/ARL/Graphics/LiNiO2_withTS_withoutNi_oneLayer_selection.xyz', 'r')\n",
    "lines = file.readlines()\n",
    "file.close()\n",
    "i = 0\n",
    "head = lines[1].split(':')[0:9]\n",
    "keep = [':'.join(str(item) for item in head[0:9]) + '\\n']\n",
    "for line in lines[3:len(lines)]:\n",
    "    line = line.split(' ')\n",
    "    if line[5] == '1\\n' or line[1] == 'O':\n",
    "        keep.append(' '.join(str(item) for item in line[0:5]) + '\\n') \n",
    "file_withTS = open('/nfshome/winkelmann/ARL/Graphics/LiNiO2_withTS_oneJump.xyz', 'w')\n",
    "file_withTS.write(str(len(keep)-1) + '\\n')\n",
    "remove_he = []\n",
    "for k in keep:\n",
    "    file_withTS.write(k)\n",
    "    if k.split(' ')[1] == 'He':\n",
    "        remove_he.append(k)\n",
    "file_withTS.close()\n",
    "for k in remove_he:\n",
    "    keep.remove(k)\n",
    "file_noTS = open('/nfshome/winkelmann/ARL/Graphics/LiNiO2_noTS_oneJump.xyz', 'w')\n",
    "file_noTS.write(str(len(keep)-1) + '\\n')\n",
    "for k in keep:\n",
    "    file_noTS.write(k)\n",
    "file_noTS.close()\n"
   ],
   "id": "cd25eabb67cc81d1",
   "outputs": [],
   "execution_count": null
  },
  {
   "metadata": {},
   "cell_type": "code",
   "source": "",
   "id": "9f2859792ccdb5bc",
   "outputs": [],
   "execution_count": null
  }
 ],
 "metadata": {
  "kernelspec": {
   "display_name": "Python 3 (ipykernel)",
   "language": "python",
   "name": "python3"
  },
  "language_info": {
   "codemirror_mode": {
    "name": "ipython",
    "version": 3
   },
   "file_extension": ".py",
   "mimetype": "text/x-python",
   "name": "python",
   "nbconvert_exporter": "python",
   "pygments_lexer": "ipython3",
   "version": "3.10.13"
  }
 },
 "nbformat": 4,
 "nbformat_minor": 5
}
