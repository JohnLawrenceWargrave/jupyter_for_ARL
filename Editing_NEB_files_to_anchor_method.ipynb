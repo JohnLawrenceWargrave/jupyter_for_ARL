{
 "cells": [
  {
   "metadata": {},
   "cell_type": "markdown",
   "source": [
    "Idee: Start und Endzustand des Springenden Atoms umbenennen und so tun als wäre das der Sprungzustande\n",
    "\n",
    "Todo:   - springendes Atom Identifizieren - check\n",
    "        - neue Daten ausschreiben"
   ],
   "id": "dd14992a45bce2f1"
  },
  {
   "metadata": {
    "ExecuteTime": {
     "end_time": "2025-02-26T16:25:02.883225Z",
     "start_time": "2025-02-26T16:25:02.879123Z"
    }
   },
   "cell_type": "code",
   "source": [
    "import glob\n",
    "import os\n"
   ],
   "id": "92b339309789f0c5",
   "outputs": [],
   "execution_count": 1
  },
  {
   "cell_type": "code",
   "id": "initial_id",
   "metadata": {
    "collapsed": true,
    "ExecuteTime": {
     "end_time": "2025-02-26T16:35:02.237249Z",
     "start_time": "2025-02-26T16:35:02.233385Z"
    }
   },
   "source": [
    "\n",
    "import ase\n",
    "from ase.io import read as ASEread\n",
    "import numpy as np\n",
    "\n",
    "def identify_jumping_atom(atoms_init, atoms_final):\n",
    "\n",
    "    # apply minimum image convention to get the displacement vector in direct coordinates for every atom\n",
    "    init_pos  = atoms_init.get_scaled_positions()\n",
    "    final_pos = atoms_final.get_scaled_positions()\n",
    "    for i, (pos_init, pos_fin) in enumerate(zip(init_pos, final_pos)):\n",
    "        for xyz in [0,1,2]:\n",
    "            if pos_fin[xyz] - pos_init[xyz] > 0.5:\n",
    "                final_pos[i][xyz] = final_pos[i][xyz] - 1\n",
    "            elif pos_fin[xyz] - pos_init[xyz] < -0.5:\n",
    "                final_pos[i][xyz] = final_pos[i][xyz] + 1\n",
    "    rel_displacement_vector = final_pos - init_pos\n",
    "    \n",
    "    # get cell and compute the displacement vector in cartesian form\n",
    "    (a,b,c) = atoms_init.get_cell()\n",
    "    displacement_vector = []\n",
    "    for (x, y, z) in rel_displacement_vector:\n",
    "        displacement_vector.append(x*a+y*b+z*c)\n",
    "    displacement_vector = np.array(displacement_vector)\n",
    "    \n",
    "    # get displacement magnitude and check for the ones with displacement larger than 2\n",
    "    # which should be just the Li that jumps. Get its index\n",
    "    displacement = np.sqrt(np.sum(displacement_vector ** 2, axis = 1))\n",
    "    count = 0\n",
    "    for i, displ in enumerate(displacement):\n",
    "        if displ > 2:\n",
    "            count += 1\n",
    "            Li_index = i\n",
    "    \n",
    "    # Check that there are not >1 atoms moving \n",
    "    if count != 1:\n",
    "        raise Exception(f\"WARNING: There are {count} ions that move more than 2 Ang during the NEB! Check NEB path again!\")\n",
    "    else:\n",
    "        return Li_index"
   ],
   "outputs": [],
   "execution_count": 14
  },
  {
   "metadata": {
    "ExecuteTime": {
     "end_time": "2025-02-26T16:30:12.712912Z",
     "start_time": "2025-02-26T16:30:12.645468Z"
    }
   },
   "cell_type": "code",
   "source": [
    "# Define the source and destination directories\n",
    "source_base = \"/nfshome/sadowski/work/LiNiO2_data_base_Sabrina/DFT_database/NEBs_Marcel\"\n",
    "destination_base = \"/nfshome/winkelmann/ARL/NEBs_Marcel\"\n",
    "\n",
    "#find all folders with final data and copy them, so I got write access for creating the structures\n",
    "# the ones created manually (0250, 0500, 0750)\n",
    "folders = glob.glob(f\"{source_base}/*/NEB*/run_final*\")\n",
    "# the random ones\n",
    "folders += glob.glob(f\"{source_base}/*random*/02_odh/NEB*/run_final*\")\n",
    "folders += glob.glob(f\"{source_base}/*random*/03_tsh/NEB*/run_final*\")\n",
    "folders += glob.glob(f\"{source_base}/*random*/04_double_tsh/NEB*/run_final*\")"
   ],
   "id": "6ed03539d68aa7a7",
   "outputs": [],
   "execution_count": 6
  },
  {
   "metadata": {},
   "cell_type": "markdown",
   "source": "## kopieren von Marcels daten",
   "id": "20bc997f552dd11c"
  },
  {
   "metadata": {
    "ExecuteTime": {
     "end_time": "2025-02-26T16:36:16.059833Z",
     "start_time": "2025-02-26T16:36:15.177544Z"
    }
   },
   "cell_type": "code",
   "source": [
    "# Copy each folder to the destination, maintaining the folder structure\n",
    "for folder in folders:\n",
    "    # Create the destination path by replacing the source base with the destination base\n",
    "    source_folder = '/'.join(folder.split('/')[0:-1])\n",
    "    destination_folder = source_folder.replace(source_base, destination_base)\n",
    "\n",
    "    if os.path.exists(destination_folder):\n",
    "        print(f\"Folder {destination_folder} already exists. Skipping...\")\n",
    "        continue\n",
    "\n",
    "    # Create the destination directory if it doesn't exist\n",
    "    os.makedirs(destination_folder, exist_ok=True)\n",
    "\n",
    "    # copy the run_final* folder\n",
    "    os.system(f\"cp -r {folder} {destination_folder}\")\n",
    "\n",
    "    # Copy the OUTCAR_final_image and OUTCAR_initial_image files\n",
    "    source_folder = '/'.join(folder.split('/')[0:-1])\n",
    "    outcar_initial = source_folder + '/OUTCAR_initial_image'\n",
    "    outcar_final = source_folder + '/OUTCAR_final_image'\n",
    "    os.system(f\"cp {outcar_final} {destination_folder}\")\n",
    "    os.system(f\"cp {outcar_initial} {destination_folder}\")\n"
   ],
   "id": "92677561ee4b2e3f",
   "outputs": [
    {
     "name": "stdout",
     "output_type": "stream",
     "text": [
      "Folder /nfshome/winkelmann/ARL/NEBs_Marcel/0750/NEB_04-15_finished already exists. Skipping...\n",
      "Folder /nfshome/winkelmann/ARL/NEBs_Marcel/0750/NEB_05-16_finished already exists. Skipping...\n",
      "Folder /nfshome/winkelmann/ARL/NEBs_Marcel/0750/NEB_06-17_finished already exists. Skipping...\n",
      "Folder /nfshome/winkelmann/ARL/NEBs_Marcel/0750/NEB_07-18_finished already exists. Skipping...\n",
      "Folder /nfshome/winkelmann/ARL/NEBs_Marcel/0750/NEB_09-20_finished already exists. Skipping...\n",
      "Folder /nfshome/winkelmann/ARL/NEBs_Marcel/0750/NEB_10-21_finished already exists. Skipping...\n",
      "Folder /nfshome/winkelmann/ARL/NEBs_Marcel/0750/NEB_11-22_finished already exists. Skipping...\n",
      "Folder /nfshome/winkelmann/ARL/NEBs_Marcel/0750/NEB_12-23_finished already exists. Skipping...\n",
      "Folder /nfshome/winkelmann/ARL/NEBs_Marcel/0750/NEB_13-24_finished already exists. Skipping...\n",
      "Folder /nfshome/winkelmann/ARL/NEBs_Marcel/0750/NEB_16-17_finished already exists. Skipping...\n",
      "Folder /nfshome/winkelmann/ARL/NEBs_Marcel/0750/NEB_01-02_finished already exists. Skipping...\n",
      "Folder /nfshome/winkelmann/ARL/NEBs_Marcel/0750/NEB_02-03_finished already exists. Skipping...\n",
      "Folder /nfshome/winkelmann/ARL/NEBs_Marcel/0750/NEB_02-04_finished already exists. Skipping...\n",
      "Folder /nfshome/winkelmann/ARL/NEBs_Marcel/0750/NEB_02-05_finished already exists. Skipping...\n",
      "Folder /nfshome/winkelmann/ARL/NEBs_Marcel/0750/NEB_02-06_finished already exists. Skipping...\n",
      "Folder /nfshome/winkelmann/ARL/NEBs_Marcel/0750/NEB_02-07_finished already exists. Skipping...\n",
      "Folder /nfshome/winkelmann/ARL/NEBs_Marcel/0750/NEB_02-08_finished already exists. Skipping...\n",
      "Folder /nfshome/winkelmann/ARL/NEBs_Marcel/0750/NEB_02-09_finished already exists. Skipping...\n",
      "Folder /nfshome/winkelmann/ARL/NEBs_Marcel/0750/NEB_02-10_finished already exists. Skipping...\n",
      "Folder /nfshome/winkelmann/ARL/NEBs_Marcel/0750/NEB_02-11_finished already exists. Skipping...\n",
      "Folder /nfshome/winkelmann/ARL/NEBs_Marcel/0750/NEB_02-12_finished already exists. Skipping...\n",
      "Folder /nfshome/winkelmann/ARL/NEBs_Marcel/0750/NEB_02-13_finished already exists. Skipping...\n",
      "Folder /nfshome/winkelmann/ARL/NEBs_Marcel/0750/NEB_03-14_finished already exists. Skipping...\n",
      "Folder /nfshome/winkelmann/ARL/NEBs_Marcel/0750/NEB_08-19_finished already exists. Skipping...\n",
      "Folder /nfshome/winkelmann/ARL/NEBs_Marcel/0750/NEB_16-26_finished already exists. Skipping...\n",
      "Folder /nfshome/winkelmann/ARL/NEBs_Marcel/0500/NEB_02-03_finished already exists. Skipping...\n",
      "Folder /nfshome/winkelmann/ARL/NEBs_Marcel/0500/NEB_02-10_finished already exists. Skipping...\n",
      "Folder /nfshome/winkelmann/ARL/NEBs_Marcel/0500/NEB_01-02_finished already exists. Skipping...\n",
      "Folder /nfshome/winkelmann/ARL/NEBs_Marcel/0500/NEB_02-04_finished already exists. Skipping...\n",
      "Folder /nfshome/winkelmann/ARL/NEBs_Marcel/0500/NEB_02-05_finished already exists. Skipping...\n",
      "Folder /nfshome/winkelmann/ARL/NEBs_Marcel/0500/NEB_02-09_finished already exists. Skipping...\n",
      "Folder /nfshome/winkelmann/ARL/NEBs_Marcel/0500/NEB_04-12_finished already exists. Skipping...\n",
      "Folder /nfshome/winkelmann/ARL/NEBs_Marcel/0500/NEB_05-06_finished already exists. Skipping...\n",
      "Folder /nfshome/winkelmann/ARL/NEBs_Marcel/0500/NEB_09-18_finished already exists. Skipping...\n",
      "Folder /nfshome/winkelmann/ARL/NEBs_Marcel/0500/NEB_11-21_finished already exists. Skipping...\n",
      "Folder /nfshome/winkelmann/ARL/NEBs_Marcel/0500/NEB_12-17_finished already exists. Skipping...\n",
      "Folder /nfshome/winkelmann/ARL/NEBs_Marcel/0500/NEB_18-19_finished already exists. Skipping...\n",
      "Folder /nfshome/winkelmann/ARL/NEBs_Marcel/0500/NEB_21-23_finished already exists. Skipping...\n",
      "Folder /nfshome/winkelmann/ARL/NEBs_Marcel/0500/NEB_05-13_finished already exists. Skipping...\n",
      "Folder /nfshome/winkelmann/ARL/NEBs_Marcel/0500/NEB_02-06_finished already exists. Skipping...\n",
      "Folder /nfshome/winkelmann/ARL/NEBs_Marcel/0500/NEB_06-15_finished already exists. Skipping...\n",
      "Folder /nfshome/winkelmann/ARL/NEBs_Marcel/0500/NEB_02-08_finished already exists. Skipping...\n",
      "Folder /nfshome/winkelmann/ARL/NEBs_Marcel/0500/NEB_10-20_finished already exists. Skipping...\n",
      "Folder /nfshome/winkelmann/ARL/NEBs_Marcel/0500/NEB_02-07_finished already exists. Skipping...\n",
      "Folder /nfshome/winkelmann/ARL/NEBs_Marcel/0500/NEB_17-22_finished already exists. Skipping...\n",
      "Folder /nfshome/winkelmann/ARL/NEBs_Marcel/0500/NEB_02-11_finished already exists. Skipping...\n",
      "Folder /nfshome/winkelmann/ARL/NEBs_Marcel/0500/NEB_23-24_finished already exists. Skipping...\n",
      "Folder /nfshome/winkelmann/ARL/NEBs_Marcel/0250/NEB_01-02_finished already exists. Skipping...\n",
      "Folder /nfshome/winkelmann/ARL/NEBs_Marcel/0250/NEB_02-03_finished already exists. Skipping...\n",
      "Folder /nfshome/winkelmann/ARL/NEBs_Marcel/0250/NEB_02-04_finished already exists. Skipping...\n",
      "Folder /nfshome/winkelmann/ARL/NEBs_Marcel/0250/NEB_02-08_finished already exists. Skipping...\n",
      "Folder /nfshome/winkelmann/ARL/NEBs_Marcel/0250/NEB_02-18_finished already exists. Skipping...\n",
      "Folder /nfshome/winkelmann/ARL/NEBs_Marcel/0250/NEB_03-05_finished already exists. Skipping...\n",
      "Folder /nfshome/winkelmann/ARL/NEBs_Marcel/0250/NEB_05-07_finished already exists. Skipping...\n",
      "Folder /nfshome/winkelmann/ARL/NEBs_Marcel/0250/NEB_06-14_finished already exists. Skipping...\n",
      "Folder /nfshome/winkelmann/ARL/NEBs_Marcel/0250/NEB_09-10_finished already exists. Skipping...\n",
      "Folder /nfshome/winkelmann/ARL/NEBs_Marcel/0250/NEB_09-11_finished already exists. Skipping...\n",
      "Folder /nfshome/winkelmann/ARL/NEBs_Marcel/0250/NEB_11-13_finished already exists. Skipping...\n",
      "Folder /nfshome/winkelmann/ARL/NEBs_Marcel/0250/NEB_14-15_finished already exists. Skipping...\n",
      "Folder /nfshome/winkelmann/ARL/NEBs_Marcel/0250/NEB_02-07_finished already exists. Skipping...\n",
      "Folder /nfshome/winkelmann/ARL/NEBs_Marcel/0250/NEB_03-06_finished already exists. Skipping...\n",
      "Folder /nfshome/winkelmann/ARL/NEBs_Marcel/0250/NEB_06-12_finished already exists. Skipping...\n",
      "Folder /nfshome/winkelmann/ARL/NEBs_Marcel/0250/NEB_02-09_finished already exists. Skipping...\n",
      "Folder /nfshome/winkelmann/ARL/NEBs_Marcel/0250/NEB_11-17_finished already exists. Skipping...\n",
      "Folder /nfshome/winkelmann/ARL/NEBs_Marcel/0875_random01_seed_47/02_odh/NEB_initial-image01 already exists. Skipping...\n",
      "Folder /nfshome/winkelmann/ARL/NEBs_Marcel/0875_random01_seed_47/02_odh/NEB_initial-image02 already exists. Skipping...\n",
      "Folder /nfshome/winkelmann/ARL/NEBs_Marcel/0875_random01_seed_47/02_odh/NEB_initial-image03 already exists. Skipping...\n",
      "Folder /nfshome/winkelmann/ARL/NEBs_Marcel/0875_random02_seed_4/02_odh/NEB_initial-image01 already exists. Skipping...\n",
      "Folder /nfshome/winkelmann/ARL/NEBs_Marcel/0875_random02_seed_4/02_odh/NEB_initial-image03 already exists. Skipping...\n",
      "Folder /nfshome/winkelmann/ARL/NEBs_Marcel/0875_random04_seed_11/02_odh/NEB_initial-image01 already exists. Skipping...\n",
      "Folder /nfshome/winkelmann/ARL/NEBs_Marcel/0875_random04_seed_11/02_odh/NEB_initial-image02 already exists. Skipping...\n",
      "Folder /nfshome/winkelmann/ARL/NEBs_Marcel/0875_random04_seed_11/02_odh/NEB_initial-image03 already exists. Skipping...\n",
      "Folder /nfshome/winkelmann/ARL/NEBs_Marcel/0875_random03_seed_35/02_odh/NEB_initial-image01 already exists. Skipping...\n",
      "Folder /nfshome/winkelmann/ARL/NEBs_Marcel/0875_random03_seed_35/02_odh/NEB_initial-image02 already exists. Skipping...\n",
      "Folder /nfshome/winkelmann/ARL/NEBs_Marcel/0875_random03_seed_35/02_odh/NEB_initial-image03 already exists. Skipping...\n",
      "Folder /nfshome/winkelmann/ARL/NEBs_Marcel/0625_random01_seed_178/02_odh/NEB_initial-image01 already exists. Skipping...\n",
      "Folder /nfshome/winkelmann/ARL/NEBs_Marcel/0625_random01_seed_178/02_odh/NEB_initial-image02 already exists. Skipping...\n",
      "Folder /nfshome/winkelmann/ARL/NEBs_Marcel/0625_random01_seed_178/02_odh/NEB_initial-image03 already exists. Skipping...\n",
      "Folder /nfshome/winkelmann/ARL/NEBs_Marcel/0625_random01_seed_178/02_odh/NEB_initial-image04 already exists. Skipping...\n",
      "Folder /nfshome/winkelmann/ARL/NEBs_Marcel/0625_random02_seed_258/02_odh/NEB_initial-image01 already exists. Skipping...\n",
      "Folder /nfshome/winkelmann/ARL/NEBs_Marcel/0625_random02_seed_258/02_odh/NEB_initial-image04 already exists. Skipping...\n",
      "Folder /nfshome/winkelmann/ARL/NEBs_Marcel/0375_random01_seed_26/02_odh/NEB_initial-image01 already exists. Skipping...\n",
      "Folder /nfshome/winkelmann/ARL/NEBs_Marcel/0375_random01_seed_26/02_odh/NEB_initial-image02 already exists. Skipping...\n",
      "Folder /nfshome/winkelmann/ARL/NEBs_Marcel/0375_random01_seed_26/02_odh/NEB_initial-image03 already exists. Skipping...\n",
      "Folder /nfshome/winkelmann/ARL/NEBs_Marcel/0375_random01_seed_26/02_odh/NEB_initial-image04 already exists. Skipping...\n",
      "Folder /nfshome/winkelmann/ARL/NEBs_Marcel/0375_random02_seed_85/02_odh/NEB_initial-image01 already exists. Skipping...\n",
      "Folder /nfshome/winkelmann/ARL/NEBs_Marcel/0375_random02_seed_85/02_odh/NEB_initial-image02 already exists. Skipping...\n",
      "Folder /nfshome/winkelmann/ARL/NEBs_Marcel/0375_random02_seed_85/02_odh/NEB_initial-image03 already exists. Skipping...\n",
      "Folder /nfshome/winkelmann/ARL/NEBs_Marcel/0375_random02_seed_85/02_odh/NEB_initial-image04 already exists. Skipping...\n",
      "Folder /nfshome/winkelmann/ARL/NEBs_Marcel/0125_random03_seed_13/02_odh/NEB_initial-image01 already exists. Skipping...\n",
      "Folder /nfshome/winkelmann/ARL/NEBs_Marcel/0125_random04_seed_19/02_odh/NEB_initial-image01 already exists. Skipping...\n",
      "Folder /nfshome/winkelmann/ARL/NEBs_Marcel/0125_random04_seed_19/02_odh/NEB_initial-image02 already exists. Skipping...\n",
      "Folder /nfshome/winkelmann/ARL/NEBs_Marcel/0875_random02_seed_4/03_tsh/NEB_initial-image01 already exists. Skipping...\n",
      "Folder /nfshome/winkelmann/ARL/NEBs_Marcel/0875_random04_seed_11/03_tsh/NEB_initial-image01 already exists. Skipping...\n",
      "Folder /nfshome/winkelmann/ARL/NEBs_Marcel/0875_random04_seed_11/03_tsh/NEB_initial-image02 already exists. Skipping...\n",
      "Folder /nfshome/winkelmann/ARL/NEBs_Marcel/0875_random04_seed_11/03_tsh/NEB_initial-image03 already exists. Skipping...\n",
      "Folder /nfshome/winkelmann/ARL/NEBs_Marcel/0875_random03_seed_35/03_tsh/NEB_initial-image01 already exists. Skipping...\n",
      "Folder /nfshome/winkelmann/ARL/NEBs_Marcel/0875_random03_seed_35/03_tsh/NEB_initial-image03 already exists. Skipping...\n",
      "Folder /nfshome/winkelmann/ARL/NEBs_Marcel/0625_random02_seed_258/03_tsh/NEB_initial-image01 already exists. Skipping...\n",
      "Folder /nfshome/winkelmann/ARL/NEBs_Marcel/0625_random02_seed_258/03_tsh/NEB_initial-image02 already exists. Skipping...\n",
      "Folder /nfshome/winkelmann/ARL/NEBs_Marcel/0625_random02_seed_258/03_tsh/NEB_initial-image04 already exists. Skipping...\n",
      "Folder /nfshome/winkelmann/ARL/NEBs_Marcel/0375_random01_seed_26/03_tsh/NEB_initial-image03 already exists. Skipping...\n",
      "Folder /nfshome/winkelmann/ARL/NEBs_Marcel/0375_random02_seed_85/03_tsh/NEB_initial-image01 already exists. Skipping...\n",
      "Folder /nfshome/winkelmann/ARL/NEBs_Marcel/0375_random02_seed_85/03_tsh/NEB_initial-image02 already exists. Skipping...\n",
      "Folder /nfshome/winkelmann/ARL/NEBs_Marcel/0125_random02_seed_18/03_tsh/NEB_initial-image01 already exists. Skipping...\n",
      "Folder /nfshome/winkelmann/ARL/NEBs_Marcel/0125_random02_seed_18/03_tsh/NEB_initial-image02 already exists. Skipping...\n",
      "Folder /nfshome/winkelmann/ARL/NEBs_Marcel/0125_random02_seed_18/03_tsh/NEB_initial-image03 already exists. Skipping...\n",
      "Folder /nfshome/winkelmann/ARL/NEBs_Marcel/0125_random03_seed_13/03_tsh/NEB_initial-image02 already exists. Skipping...\n",
      "Folder /nfshome/winkelmann/ARL/NEBs_Marcel/0125_random04_seed_19/03_tsh/NEB_initial-image01 already exists. Skipping...\n",
      "Folder /nfshome/winkelmann/ARL/NEBs_Marcel/0125_random04_seed_19/03_tsh/NEB_initial-image02 already exists. Skipping...\n",
      "Folder /nfshome/winkelmann/ARL/NEBs_Marcel/0125_random04_seed_19/03_tsh/NEB_initial-image03 already exists. Skipping...\n",
      "Folder /nfshome/winkelmann/ARL/NEBs_Marcel/0875_random04_seed_11/04_double_tsh/NEB_initial-image01 already exists. Skipping...\n",
      "Folder /nfshome/winkelmann/ARL/NEBs_Marcel/0875_random03_seed_35/04_double_tsh/NEB_initial-image01 already exists. Skipping...\n",
      "Folder /nfshome/winkelmann/ARL/NEBs_Marcel/0625_random01_seed_178/04_double_tsh/NEB_initial-image01 already exists. Skipping...\n",
      "Folder /nfshome/winkelmann/ARL/NEBs_Marcel/0625_random01_seed_178/04_double_tsh/NEB_initial-image02 already exists. Skipping...\n",
      "Folder /nfshome/winkelmann/ARL/NEBs_Marcel/0625_random02_seed_258/04_double_tsh/NEB_initial-image01 already exists. Skipping...\n",
      "Folder /nfshome/winkelmann/ARL/NEBs_Marcel/0625_random02_seed_258/04_double_tsh/NEB_initial-image02 already exists. Skipping...\n",
      "Folder /nfshome/winkelmann/ARL/NEBs_Marcel/0625_random02_seed_258/04_double_tsh/NEB_initial-image03 already exists. Skipping...\n",
      "Folder /nfshome/winkelmann/ARL/NEBs_Marcel/0625_random02_seed_258/04_double_tsh/NEB_initial-image04 already exists. Skipping...\n",
      "Folder /nfshome/winkelmann/ARL/NEBs_Marcel/0375_random01_seed_26/04_double_tsh/NEB_initial-image01 already exists. Skipping...\n",
      "Folder /nfshome/winkelmann/ARL/NEBs_Marcel/0375_random01_seed_26/04_double_tsh/NEB_initial-image03 already exists. Skipping...\n",
      "Folder /nfshome/winkelmann/ARL/NEBs_Marcel/0375_random01_seed_26/04_double_tsh/NEB_initial-image04 already exists. Skipping...\n",
      "Folder /nfshome/winkelmann/ARL/NEBs_Marcel/0375_random02_seed_85/04_double_tsh/NEB_initial-image02 already exists. Skipping...\n",
      "Folder /nfshome/winkelmann/ARL/NEBs_Marcel/0375_random02_seed_85/04_double_tsh/NEB_initial-image03 already exists. Skipping...\n",
      "Folder /nfshome/winkelmann/ARL/NEBs_Marcel/0125_random01_seed_5/04_double_tsh/NEB_initial-image01 already exists. Skipping...\n",
      "Folder /nfshome/winkelmann/ARL/NEBs_Marcel/0125_random01_seed_5/04_double_tsh/NEB_initial-image02 already exists. Skipping...\n",
      "Folder /nfshome/winkelmann/ARL/NEBs_Marcel/0125_random01_seed_5/04_double_tsh/NEB_initial-image03 already exists. Skipping...\n",
      "Folder /nfshome/winkelmann/ARL/NEBs_Marcel/0125_random02_seed_18/04_double_tsh/NEB_initial-image01 already exists. Skipping...\n",
      "Folder /nfshome/winkelmann/ARL/NEBs_Marcel/0125_random02_seed_18/04_double_tsh/NEB_initial-image02 already exists. Skipping...\n",
      "Folder /nfshome/winkelmann/ARL/NEBs_Marcel/0125_random02_seed_18/04_double_tsh/NEB_initial-image03 already exists. Skipping...\n",
      "Folder /nfshome/winkelmann/ARL/NEBs_Marcel/0125_random03_seed_13/04_double_tsh/NEB_initial-image01 already exists. Skipping...\n",
      "Folder /nfshome/winkelmann/ARL/NEBs_Marcel/0125_random03_seed_13/04_double_tsh/NEB_initial-image02 already exists. Skipping...\n",
      "Folder /nfshome/winkelmann/ARL/NEBs_Marcel/0125_random03_seed_13/04_double_tsh/NEB_initial-image03 already exists. Skipping...\n",
      "Folder /nfshome/winkelmann/ARL/NEBs_Marcel/0125_random04_seed_19/04_double_tsh/NEB_initial-image01 already exists. Skipping...\n",
      "Folder /nfshome/winkelmann/ARL/NEBs_Marcel/0125_random04_seed_19/04_double_tsh/NEB_initial-image02 already exists. Skipping...\n"
     ]
    }
   ],
   "execution_count": 16
  },
  {
   "metadata": {},
   "cell_type": "markdown",
   "source": [
    "## Aus NEB-folder Struktur erstellen\n",
    "Schritt 00 und 06 einlesen jumping Li-umbenennen in Struktur 00 und position des jumping Li aus 06 hinzufügen"
   ],
   "id": "dc96360f32e001bd"
  },
  {
   "metadata": {
    "ExecuteTime": {
     "end_time": "2025-02-26T16:36:33.414181Z",
     "start_time": "2025-02-26T16:36:17.442754Z"
    }
   },
   "cell_type": "code",
   "source": [
    "#Li-trans\n",
    "atoms_for_training_NEB_transition_states = []\n",
    "H_o_M_for_training_NEB_transition_states = []\n",
    "paths_for_training_NEB_transition_states = []\n",
    "\n",
    "# Iterate over all run_final folders\n",
    "for folder in folders:\n",
    "\n",
    "    try:\n",
    "        #switching the path to the copied files\n",
    "        source_folder = '/'.join(folder.split('/')[0:-1])\n",
    "        destination_folder = source_folder.replace(source_base, destination_base)\n",
    "\n",
    "        # Check the energy along the path. Use initial and final energies from the corresponding relaxed structures + the last steps of the\n",
    "        # optimized intermediate images\n",
    "        start_structure = ASEread(destination_folder + '/OUTCAR_initial_image')\n",
    "        end_structure = ASEread(destination_folder + '/OUTCAR_final_image')\n",
    "        i = identify_jumping_atom(start_structure, end_structure)\n",
    "        write_structure = start_structure.copy()\n",
    "        write_structure[i].symbol = 'Ti'\n",
    "        end_structure[i].symbol = 'Ti'\n",
    "        write_structure.append(end_structure[i])\n",
    "        write_structure.write(destination_folder + '/anchor_trans_image.vasp', format='vasp')\n",
    "    except Exception as error:\n",
    "        print(f'{destination_folder} \\t {error} \\n')\n",
    "    \n",
    "    \n"
   ],
   "id": "e4c2aa7207f4f036",
   "outputs": [
    {
     "name": "stdout",
     "output_type": "stream",
     "text": [
      "/nfshome/winkelmann/ARL/NEBs_Marcel/0500/NEB_07-16_finished \t WARNING: There are 168 ions that move more than 2 Ang during the NEB! Check NEB path again! \n",
      "\n"
     ]
    }
   ],
   "execution_count": 17
  },
  {
   "metadata": {},
   "cell_type": "code",
   "outputs": [],
   "execution_count": null,
   "source": "",
   "id": "7fe583ed4ce770"
  }
 ],
 "metadata": {
  "kernelspec": {
   "display_name": "Python 3",
   "language": "python",
   "name": "python3"
  },
  "language_info": {
   "codemirror_mode": {
    "name": "ipython",
    "version": 2
   },
   "file_extension": ".py",
   "mimetype": "text/x-python",
   "name": "python",
   "nbconvert_exporter": "python",
   "pygments_lexer": "ipython2",
   "version": "2.7.6"
  }
 },
 "nbformat": 4,
 "nbformat_minor": 5
}
